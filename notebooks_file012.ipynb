{
  "metadata": {
    "language_info": {
      "codemirror_mode": {
        "name": "python",
        "version": 3
      },
      "file_extension": ".py",
      "mimetype": "text/x-python",
      "name": "python",
      "nbconvert_exporter": "python",
      "pygments_lexer": "ipython3",
      "version": "3.8"
    },
    "kernelspec": {
      "name": "python",
      "display_name": "Python (Pyodide)",
      "language": "python"
    }
  },
  "nbformat_minor": 4,
  "nbformat": 4,
  "cells": [
    {
      "cell_type": "code",
      "source": "# Q1-> Q1. Which function is used to open a file? What are the different modes of opening a file? Explain each mode\n# of file opening.\n\n# ANSWER\n# In Python, the open() function is used to open a file. The open() function returns a file object, which can be used to read, write, or modify the contents of the file.\n\n# The open() function takes two parameters: the file name (including the path to the file) and the mode in which the file is to be opened. The different modes of opening a file are:\n\n# 'r' - Read mode: This mode is used to open a file for reading. The file must exist before it can be opened in read mode. If the file does not exist, a FileNotFoundError is raised. In read mode, the file pointer is placed at the beginning of the file, and the contents of the file can be read. The file cannot be modified in read mode.\n\n# 'w' - Write mode: This mode is used to open a file for writing. If the file already exists, its contents will be truncated (deleted) before opening the file in write mode. If the file does not exist, it will be created. In write mode, the file pointer is placed at the beginning of the file, and the contents of the file can be overwritten. If the file does not exist, a new file will be created.\n\n# 'a' - Append mode: This mode is used to open a file for appending data. If the file already exists, the file pointer is placed at the end of the file, and new data can be added to the file. If the file does not exist, it will be created. In append mode, the contents of the file are not deleted, and new data is added to the end of the file.\n\n# 'x' - Exclusive creation mode: This mode is used to create a new file, but it will fail if the file already exists. If the file already exists, a FileExistsError will be raised.\n\n# 'b' - Binary mode: This mode is used to open a file in binary mode. When a file is opened in binary mode, the data is read or written as bytes.\n\n# 't' - Text mode: This mode is used to open a file in text mode. When a file is opened in text mode, the data is read or written as strings\n\nfile = open(\"doc.txt\",'w')\nfile.write(\" hey this is text file where you can write any thing \")\nfile.close()\nwith open(\"doc.txt\",'r') as f:\n    open_file = f.read()\n    print(open_file)\nwith open (\"doc.txt\",'a') as f:\n    append_file = f.write(\" \\n,if you add some more line in your text file so you use append function \")\nwith open (\"doc.txt\",'r') as f:\n    new_file= f.read()\n    print()\n    print(new_file)\n",
      "metadata": {
        "trusted": true
      },
      "execution_count": 1,
      "outputs": [
        {
          "name": "stdout",
          "text": " hey this is text file where you can write any thing ntant so can you contribute in itif you add some more line in your text file so you use append function  if you add some more line in your text file so you use append function  \n,if you add some more line in your text file so you use append function  \n,if you add some more line in your text file so you use append function \n\n hey this is text file where you can write any thing ntant so can you contribute in itif you add some more line in your text file so you use append function  if you add some more line in your text file so you use append function  \n,if you add some more line in your text file so you use append function  \n,if you add some more line in your text file so you use append function  \n,if you add some more line in your text file so you use append function \n",
          "output_type": "stream"
        }
      ]
    },
    {
      "cell_type": "code",
      "source": "# Q2. Why close() function is used? Why is it important to close a file?\n\n# ANSWER->\n\n# The close() function is used to close a file that was opened using the open() function. It is important to close\n# a file after it has been opened and used because it releases any system resources that were allocated to the file, \n# such as memory and open file handles.\n\n# If a file is not closed properly, it can lead to memory leaks and other resource-related issues. For example, \n# if a program opens many files without closing them, it may eventually run out of file handles, which can cause \n# the program to crash or behave unpredictably.",
      "metadata": {
        "trusted": true
      },
      "execution_count": 2,
      "outputs": []
    },
    {
      "cell_type": "code",
      "source": "# Q3. Write a python program to create a text file. Write ‘I want to become a Data Scientist’ in that file. Then\n# close the file. Open this file and read the content of the file.\n\n# ANSWER->\n\ndata_science = open(\"student.txt\", 'w')\ndata_science.write(\"I want to become a Data Scientist\")\ndata_science.close()\n\nwith open(\"student.txt\", 'r') as f:\n    var = f.read()\n    print(var)",
      "metadata": {
        "trusted": true
      },
      "execution_count": 3,
      "outputs": [
        {
          "name": "stdout",
          "text": "I want to become a Data Scientist\n",
          "output_type": "stream"
        }
      ]
    },
    {
      "cell_type": "code",
      "source": "# Q4. Explain the following with python code: read(), readline() and readlines().\n\n# ANSWER->\n\n# 1>- read() - The read() method reads the entire contents of a file and returns it as a string.\n\nfile01 = open(\"Question04.txt\",'w')\nfile01.write(\"The digital revolution has already changed how people live, work, and communicate. And it’s only just getting started.\\n But the same technologies that have the potential to help billions of people live happier, healthier, and more productive lives are also creating new challenges for citizens and governments around the world.\\n From election meddling to data breaches and cyberattacks, recent events have shown that technology is changing how we think about privacy, national security, and maybe even democracy itself.\\n In this project, we examine challenges in five key areas that will shape the future of the digital age: justice system, impact on democracy, global security and international conflict, the impact of automations and AI on the jobs marketplace, identity, and privacy.\")\nfile01.close()\n\nwith open(\"Question04.txt\",'r') as f01:\n             read_function = f01.read()\n             print(read_function)\n            \n# 2>-readline() - The readline() method reads a single line from a file and returns it as a string.\n\nprint(\"THIS IS THE IMPLIMENTATION OF READLINE() METHOD\")\nfile02 = open(\"Question04.txt\",'r')\nf02 = file02.readline()\nfile02.close()\nprint(f02)\n\n# 3>-readlines() - The readlines() method reads all the lines of a file and returns them as a list of strings.\n\nprint(\"THIS IS THE IMPLIMENTATION OF READLINES() METHOD\")\nfile03 = open(\"Question04.txt\",'r')\nf03 = file03.readlines()\nfile03.close()\nfor i in f03:\n    print(i)\n",
      "metadata": {
        "trusted": true
      },
      "execution_count": 4,
      "outputs": [
        {
          "name": "stdout",
          "text": "The digital revolution has already changed how people live, work, and communicate. And it’s only just getting started.\n But the same technologies that have the potential to help billions of people live happier, healthier, and more productive lives are also creating new challenges for citizens and governments around the world.\n From election meddling to data breaches and cyberattacks, recent events have shown that technology is changing how we think about privacy, national security, and maybe even democracy itself.\n In this project, we examine challenges in five key areas that will shape the future of the digital age: justice system, impact on democracy, global security and international conflict, the impact of automations and AI on the jobs marketplace, identity, and privacy.\nTHIS IS THE IMPLIMENTATION OF READLINE() METHOD\nThe digital revolution has already changed how people live, work, and communicate. And it’s only just getting started.\n\nTHIS IS THE IMPLIMENTATION OF READLINES() METHOD\nThe digital revolution has already changed how people live, work, and communicate. And it’s only just getting started.\n\n But the same technologies that have the potential to help billions of people live happier, healthier, and more productive lives are also creating new challenges for citizens and governments around the world.\n\n From election meddling to data breaches and cyberattacks, recent events have shown that technology is changing how we think about privacy, national security, and maybe even democracy itself.\n\n In this project, we examine challenges in five key areas that will shape the future of the digital age: justice system, impact on democracy, global security and international conflict, the impact of automations and AI on the jobs marketplace, identity, and privacy.\n",
          "output_type": "stream"
        }
      ]
    },
    {
      "cell_type": "code",
      "source": "# Q5. Explain why with statement is used with open(). What is the advantage of using with statement and\n# open() together?\n\n# ANSWER->\n\n# The with statement in Python is used in conjunction with the open() function to provide a more convenient way to\n# work with files. The with statement takes care of opening and closing the file, as well as cleaning up any resources\n# used by the file when the code block inside the with statement has finished executing.\n\nwith open(\"Question04.txt\",'r') as f05:\n             function = f05.read()\n             print(function)\n",
      "metadata": {
        "trusted": true
      },
      "execution_count": 5,
      "outputs": [
        {
          "name": "stdout",
          "text": "The digital revolution has already changed how people live, work, and communicate. And it’s only just getting started.\n But the same technologies that have the potential to help billions of people live happier, healthier, and more productive lives are also creating new challenges for citizens and governments around the world.\n From election meddling to data breaches and cyberattacks, recent events have shown that technology is changing how we think about privacy, national security, and maybe even democracy itself.\n In this project, we examine challenges in five key areas that will shape the future of the digital age: justice system, impact on democracy, global security and international conflict, the impact of automations and AI on the jobs marketplace, identity, and privacy.\n",
          "output_type": "stream"
        }
      ]
    },
    {
      "cell_type": "code",
      "source": "# Q6. Explain the write() and writelines() functions. Give a suitable example.\n\n# ANSWER->\n\n# write() - The write() method writes a single string to a file.\n# Open the file in write mode\nprint(\"# Open the file in write mode\")\nf = open('example.txt', 'w')\nf.write(\"data science class\")\nf.close()\nwith open(\"example.txt\",'r') as f06:\n             fun = f06.read()\n             print(fun)\n\n#writelines() - The writelines() method writes a list of strings to a file.\n# Open the file in write mode\nprint(\"# Open the file in write mode\")\nf = open('example.txt', 'w')\nlines =['python\\n', 'basic math\\n', 'machine learning\\n']\nf.writelines(lines)\nf.close()\n\n\nwith open(\"example.txt\",'r') as f06:\n             fun = f06.read()\n             print(fun)",
      "metadata": {
        "trusted": true
      },
      "execution_count": 6,
      "outputs": [
        {
          "name": "stdout",
          "text": "# Open the file in write mode\ndata science classmachine learning\n\n# Open the file in write mode\npython\nbasic math\nmachine learning\n\n",
          "output_type": "stream"
        }
      ]
    },
    {
      "cell_type": "code",
      "source": "",
      "metadata": {},
      "execution_count": null,
      "outputs": []
    }
  ]
}